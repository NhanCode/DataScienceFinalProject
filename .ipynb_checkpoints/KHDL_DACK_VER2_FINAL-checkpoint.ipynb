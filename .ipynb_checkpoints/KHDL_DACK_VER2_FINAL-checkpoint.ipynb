{
 "cells": [
  {
   "cell_type": "markdown",
   "metadata": {},
   "source": [
    "# THÔNG TIN CHUNG VỀ NHÓM VÀ ĐỀ TÀI\n",
    "## Thành viên nhóm 18\n",
    "1612441 Phạm Quang Phước Nguyên\n",
    "\n",
    "1612451 Nguyễn Cao Nhân\n",
    "\n",
    "\n",
    "## Câu hỏi đặt ra là gì?\n",
    "Phân loại câu hỏi trong hệ thống hỏi và đáp của bệnh viện Đại học Y dược Thành phố Hồ Chí Minh. Các câu hỏi này được khách, người bệnh, người thân của người bệnh gửi đến bệnh viện thông qua nhiều kênh khác nhau: email, hỏi trực tiếp, fanpage, ... và được tổng hợp ở trang chủ của bệnh viện http://www.bvdaihoc.com.vn/, vào mục Giải đáp & Tư vấn http://gd1.bvdaihoc.com.vn/faqs_all.asp. Trong trang web này người ta phân các câu hỏi thành 30 danh mục khác nhau nhưng nhóm chỉ giải quyết câu hỏi trên 3 nhóm là **Dị ứng - Miễn dịch lâm sàng**, **Phổi** và **Tai mũi họng**.\n",
    "\n",
    "## Lợi ích của việc trả lời câu hỏi này?\n",
    "Trước đây thay vì có một người chịu trách nhiệm tiếp nhận câu hỏi sau đó đọc câu hỏi và chuyển tới đúng bác sĩ chuyên khoa để giải đáp (nên biết rằng người này không chỉ có việc xử lý câu hỏi, họ còn đảm nhận các công việc khác tại bệnh viện), có thể có ngày nào đó lượng câu hỏi đến khá nhiều khiến cho việc giải đáp không được kịp thời nhanh chóng. Hi vọng với cách phân loại tự động sẽ giúp tiết kiệm thời gian. (Nhóm có nghĩ tới các trường hợp bị phân loại sai, thì bác sĩ chuyên khoa khi đọc sẽ biết và gửi lại cho đúng chuyên khoa, hi vọng số lượng câu nhầm lẫn này sẽ không nhiều!)\n",
    "## Nguồn gốc của câu hỏi?\n",
    "Ngay từ ban đầu nhóm có ý định làm một đề tài gì đó có liên quan tới sức khỏe, y tế nhưng khi tìm dữ liệu thì không có. Rất may sau khi nghe bài trình bày của Viettel về **Hệ thống chăm sóc khách hàng tự động trả lời câu hỏi** tại Zalo AI Summit 2019 thì nhóm đã biết làm gì và quyết định tìm danh sách các bệnh viện có công bố phần hỏi đáp lên trang chủ, thì chỉ thấy có Bệnh viện Đại học Y dược Thành phố Hồ Chí Minh là có và khá nhiều câu hỏi. \n",
    "\n",
    "## Tính hợp pháp của dữ liệu?\n",
    "Sau khi kiểm tra thì trang web không có tạo file robots.txt (kiểm tra ở http://www.bvdaihoc.com.vn/robots.txt và http://gd1.bvdaihoc.com.vn/faqs_all.asp/robots.txt). Sau khi hỏi ý kiến của thầy thì thầy phản hồi có thể chấp nhận được trong quy mô của môn học.\n",
    "\n",
    "## Mô tả dữ liệu?\n",
    "Như đã trình bày, nhóm chỉ thu thập và làm việc trên 3 loại **Dị ứng - Miễn dịch lâm sàng**, **Phổi** và **Tai mũi họng**. Sau khi thu thập, nhóm có được 1159 câu hỏi, phân chia theo loại của chúng như sau:\n",
    "+ **Dị ứng - Miễn dịch lâm sàng**: có 225 câu hỏi\n",
    "+ **Phổi**: có 210 câu hỏi\n",
    "+ **Tai, mũi, họng**: có 724 câu hỏi\n",
    "\n",
    "Dữ liệu được lưu xuống file gồm 2 cột: cột thứ nhất là nội dung câu hỏi, cột thứ hai là id của loại mà chúng thuộc về. Quy ước \"Dị ứng - Miễn dịch lâm sàng\" là 0, \"Phổi\" là 1 và \"Tai mũi họng\" là 2.\n",
    "\n",
    "\n",
    "## Tính chính xác của dữ liệu?\n",
    "Nhóm tin tưởng vào sự phân loại của trang web bệnh viện Đại học Y dược Thành phố Hồ Chí Minh!\n",
    "## Một số vấn đề khác của dữ liệu?\n",
    "Như đã biết, dữ liệu dạng văn bản luôn gặp các vấn đề như: lỗi chính tả, viết tắt, viết ký hiệu... Việc này làm cho tập từ điển chứa rất nhiều từ không có giá trị."
   ]
  },
  {
   "cell_type": "markdown",
   "metadata": {},
   "source": [
    "# GIAI ĐOẠN 1: LẤY DỮ LIỆU    "
   ]
  },
  {
   "cell_type": "code",
   "execution_count": 1,
   "metadata": {},
   "outputs": [],
   "source": [
    "#Thêm các thư viện cần thiết\n",
    "from requests_html import HTMLSession\n",
    "import requests\n",
    "import time # Dùng để sleep chương trình\n",
    "import datetime as dt # Dùng để xử lý dữ liệu thời gian\n",
    "import re\n",
    "import pandas as pd\n",
    "import numpy as np\n",
    "from sklearn.model_selection import train_test_split #Chia tập dữ liệu\n",
    "\n",
    "from sklearn.neural_network import MLPClassifier\n",
    "from sklearn.pipeline import Pipeline, make_pipeline\n",
    "from sklearn.decomposition import PCA\n",
    "\n",
    "%matplotlib inline\n",
    "import matplotlib.pyplot as plt\n",
    "import seaborn as sns"
   ]
  },
  {
   "cell_type": "code",
   "execution_count": 2,
   "metadata": {},
   "outputs": [],
   "source": [
    "#Link của 3 trang đầu tiên của 3 nhóm chuyên khoa, các câu hỏi của từng nhóm chuyên khoa được lưu trong nhiều trang\n",
    "page_list = [\"http://gd1.bvdaihoc.com.vn/faqs_all.asp?Category=48\",\n",
    "            \"http://gd1.bvdaihoc.com.vn/faqs_all.asp?Category=24\",\n",
    "            \"http://gd1.bvdaihoc.com.vn/faqs_all.asp?Category=30\"]"
   ]
  },
  {
   "cell_type": "code",
   "execution_count": 3,
   "metadata": {},
   "outputs": [],
   "source": [
    "def getData(page_list):\n",
    "    web_data = []\n",
    "    session = HTMLSession()\n",
    "    for p_type in range(len(page_list)):\n",
    "        page_url = page_list[p_type]   \n",
    "        r = session.get(page_url).html\n",
    "        \n",
    "        # Tổng số trang của chuyên khoa\n",
    "        num_pages = len(r.find('#AutoNumber13')[0].find('td')[1].find('option'))\n",
    "        \n",
    "        # Lấy câu hỏi trong từng trang\n",
    "        for page_index in range(num_pages):\n",
    "            url = page_url + \"&page=\" + str(page_index + 1)\n",
    "            r = session.get(url).html\n",
    "            \n",
    "            questions = r.find(\"#AutoNumber6\")[1].find('a')\n",
    "            for question in questions:\n",
    "                web_data.append({'Question': question.text, 'Type': p_type})\n",
    "                \n",
    "        #print(str(round((p_type + 1) * 100 / len(page_list), 2)) + \"%\")\n",
    "    return web_data            "
   ]
  },
  {
   "cell_type": "code",
   "execution_count": 4,
   "metadata": {},
   "outputs": [],
   "source": [
    "# Lấy dữ liệu từ web rồi ghi ra file csv\n",
    "\n",
    "data = getData(page_list)\n",
    "pd.DataFrame(data).to_csv(\"crawQuestion.csv\",index = False, header=True)"
   ]
  },
  {
   "cell_type": "code",
   "execution_count": 5,
   "metadata": {},
   "outputs": [
    {
     "name": "stdout",
     "output_type": "stream",
     "text": [
      "Question    1159\n",
      "Type        1159\n",
      "dtype: int64\n"
     ]
    },
    {
     "data": {
      "text/html": [
       "<div>\n",
       "<style scoped>\n",
       "    .dataframe tbody tr th:only-of-type {\n",
       "        vertical-align: middle;\n",
       "    }\n",
       "\n",
       "    .dataframe tbody tr th {\n",
       "        vertical-align: top;\n",
       "    }\n",
       "\n",
       "    .dataframe thead th {\n",
       "        text-align: right;\n",
       "    }\n",
       "</style>\n",
       "<table border=\"1\" class=\"dataframe\">\n",
       "  <thead>\n",
       "    <tr style=\"text-align: right;\">\n",
       "      <th></th>\n",
       "      <th>Question</th>\n",
       "      <th>Type</th>\n",
       "    </tr>\n",
       "  </thead>\n",
       "  <tbody>\n",
       "    <tr>\n",
       "      <th>0</th>\n",
       "      <td>Chào BS. Năm nay tôi 69 tuổi. Thỉnh thoảng khi...</td>\n",
       "      <td>0</td>\n",
       "    </tr>\n",
       "    <tr>\n",
       "      <th>1</th>\n",
       "      <td>Chào BS, Cho mình hỏi trên bệnh viện mình có x...</td>\n",
       "      <td>0</td>\n",
       "    </tr>\n",
       "    <tr>\n",
       "      <th>2</th>\n",
       "      <td>BS cho em hỏi, em năm nay 33t, đã có gia đình,...</td>\n",
       "      <td>0</td>\n",
       "    </tr>\n",
       "    <tr>\n",
       "      <th>3</th>\n",
       "      <td>Em uống thuốc nhưng cơ thể không chịu được thu...</td>\n",
       "      <td>0</td>\n",
       "    </tr>\n",
       "    <tr>\n",
       "      <th>4</th>\n",
       "      <td>Chào bác sĩ. Em là nữ (93) em bị dị ứng nổi mề...</td>\n",
       "      <td>0</td>\n",
       "    </tr>\n",
       "  </tbody>\n",
       "</table>\n",
       "</div>"
      ],
      "text/plain": [
       "                                            Question  Type\n",
       "0  Chào BS. Năm nay tôi 69 tuổi. Thỉnh thoảng khi...     0\n",
       "1  Chào BS, Cho mình hỏi trên bệnh viện mình có x...     0\n",
       "2  BS cho em hỏi, em năm nay 33t, đã có gia đình,...     0\n",
       "3  Em uống thuốc nhưng cơ thể không chịu được thu...     0\n",
       "4  Chào bác sĩ. Em là nữ (93) em bị dị ứng nổi mề...     0"
      ]
     },
     "execution_count": 5,
     "metadata": {},
     "output_type": "execute_result"
    }
   ],
   "source": [
    "# read csv\n",
    "\n",
    "df = pd.read_csv(\"crawQuestion.csv\")\n",
    "print(df.count())\n",
    "df.head()"
   ]
  },
  {
   "cell_type": "markdown",
   "metadata": {},
   "source": [
    "# GIAI ĐOẠN 2: TIỀN XỬ LÝ DỮ LIỆU"
   ]
  },
  {
   "cell_type": "code",
   "execution_count": 6,
   "metadata": {},
   "outputs": [
    {
     "name": "stdout",
     "output_type": "stream",
     "text": [
      "648 163 348\n"
     ]
    }
   ],
   "source": [
    "# Tạo các tập train, validation và test\n",
    "\n",
    "X_df = df[\"Question\"]\n",
    "y_df = df[\"Type\"]\n",
    "\n",
    "X_train_val, X_test, y_train_val, y_test = train_test_split(X_df, y_df, test_size=0.3, stratify=y_df, random_state=0)\n",
    "\n",
    "X_train, X_val, y_train, y_val = train_test_split(X_train_val, y_train_val, test_size=0.2, stratify=y_train_val, random_state=0)\n",
    "\n",
    "print(len(X_train), len( X_val), len(X_test))"
   ]
  },
  {
   "cell_type": "code",
   "execution_count": 7,
   "metadata": {},
   "outputs": [
    {
     "name": "stdout",
     "output_type": "stream",
     "text": [
      "2    405\n",
      "0    125\n",
      "1    118\n",
      "Name: Type, dtype: int64\n",
      "2    102\n",
      "0     32\n",
      "1     29\n",
      "Name: Type, dtype: int64\n",
      "2    217\n",
      "0     68\n",
      "1     63\n",
      "Name: Type, dtype: int64\n"
     ]
    }
   ],
   "source": [
    "#Xem các số lượng các loại trong từng tập\n",
    "\n",
    "print(y_train.value_counts())\n",
    "print(y_val.value_counts())\n",
    "print(y_test.value_counts())"
   ]
  },
  {
   "cell_type": "code",
   "execution_count": 8,
   "metadata": {},
   "outputs": [],
   "source": [
    "class bagOfWord():\n",
    "    def fit(self, X_data, y=None):\n",
    "        # Tạo danh sách stop-word tiếng việt là từ đơn\n",
    "        stop_word_list = pd.read_csv('vietnamese-stopwords.txt')['word']\n",
    "        stop_words = {}\n",
    "        for word in stop_word_list.iteritems():\n",
    "            stop_words[word[1].lower()] = 1\n",
    "        #print(stop_words)\n",
    "        \n",
    "        # Đếm các từ có trong tập X_data\n",
    "        word_counts = {}\n",
    "        for question in X_train.iteritems():\n",
    "            for word in re.split('[ ,./:()\\-!?]', question[1]):  \n",
    "                # Bỏ các từ ít hơn 1 ký tự và có chứa số\n",
    "                if len(word) <= 1 or len(re.findall(r'[d]+', word)) > 0: continue\n",
    "                \n",
    "                # Chuẩn hóa từ và lọc stop-word\n",
    "                w = word.lower()               \n",
    "                if stop_words.get(w, None) != None: continue\n",
    "                \n",
    "                # Cập nhật tần số\n",
    "                freq = word_counts.get(w, 0)\n",
    "                word_counts[w] = freq + 1\n",
    "                \n",
    "        #word_counts = sorted(word_counts.items(), key=lambda kv: kv[1], reverse=True)       \n",
    "        \n",
    "        # Tạo danh sách các từ phổ biến\n",
    "        self.dictionary = {}\n",
    "        index = 0\n",
    "        for (word, freq) in word_counts.items():\n",
    "            if (freq > 15): # lọc các từ có tần số thấp\n",
    "                self.dictionary[word] = index\n",
    "                index += 1\n",
    "        #print(self.dictionary)\n",
    "        \n",
    "        return self\n",
    "    \n",
    "    def transform(self, X_data, y=None):\n",
    "        matrix = np.zeros((len(X_data), len(self.dictionary)), dtype=int) #số dòng là số mẫu dữ liệu, số cột là số từ trong dictionary\n",
    "        \n",
    "        row_index = 0\n",
    "        for question in X_data.iteritems():\n",
    "            for word in re.split('[ ,./:()\\-!?]', question[1]):\n",
    "                # Bỏ qua các từ ít hơn 1 ký tự\n",
    "                if (len(word) <= 1): continue\n",
    "                    \n",
    "                # Chuẩn hóa từ\n",
    "                w = word.lower()\n",
    "                               \n",
    "                if self.dictionary.get(w, None) != None:\n",
    "                    matrix[row_index, self.dictionary[w]] = 1\n",
    "            row_index += 1\n",
    "        \n",
    "        return matrix"
   ]
  },
  {
   "cell_type": "code",
   "execution_count": 9,
   "metadata": {},
   "outputs": [
    {
     "name": "stdout",
     "output_type": "stream",
     "text": [
      "(648, 366)\n",
      "(348, 366)\n"
     ]
    }
   ],
   "source": [
    "#Test thử bagOfWord\n",
    "\n",
    "bag = bagOfWord()\n",
    "bag.fit(X_train)\n",
    "\n",
    "data1 = bag.transform(X_train)\n",
    "data2 = bag.transform(X_test)\n",
    "\n",
    "print(data1.shape) # (số dòng, số cột) = (số mẫu dữ liệu, số chiều của veto đặc trưng)\n",
    "print(data2.shape)"
   ]
  },
  {
   "cell_type": "markdown",
   "metadata": {},
   "source": [
    "# GIAI ĐOẠN 3: TẠO PINELINE, LỰA CHỌN MÔ HÌNH"
   ]
  },
  {
   "cell_type": "code",
   "execution_count": 10,
   "metadata": {},
   "outputs": [],
   "source": [
    "# Tạo pipeline\n",
    "\n",
    "pca = PCA(n_components = 100)\n",
    "clf = MLPClassifier(hidden_layer_sizes=(20), alpha=0.1, activation='tanh', solver='lbfgs', random_state=0, max_iter=500)\n",
    "full_pipeline = Pipeline([(\"BagOfWord\",bagOfWord()), (\"PCA\", pca) ,(\"NN\", clf)])"
   ]
  },
  {
   "cell_type": "code",
   "execution_count": 11,
   "metadata": {},
   "outputs": [],
   "source": [
    "train_errs = []\n",
    "val_errs = []\n",
    "alphas = [0.1, 1, 10, 100]\n",
    "components = [50, 100, 150, 200]\n",
    "\n",
    "best_val_err = float('inf')\n",
    "\n",
    "best_alpha = None\n",
    "best_component = None"
   ]
  },
  {
   "cell_type": "code",
   "execution_count": 12,
   "metadata": {},
   "outputs": [
    {
     "data": {
      "text/plain": [
       "'Finish!'"
      ]
     },
     "execution_count": 12,
     "metadata": {},
     "output_type": "execute_result"
    }
   ],
   "source": [
    "# Lựa chọn các siêu tham số\n",
    "\n",
    "for alpha in alphas:\n",
    "    for component in components:\n",
    "        full_pipeline.set_params(PCA__n_components=component, NN__alpha=alpha)\n",
    "        \n",
    "        full_pipeline.fit(X_train, y_train)\n",
    "\n",
    "        # Tính độ lỗi trên tập train\n",
    "        train = full_pipeline.predict(X_train)\n",
    "        train_err = round(np.mean(train != y_train) * 100, 2)\n",
    "        train_errs.append(train_err)\n",
    "        \n",
    "        # Tính độ lỗi trên tập validation\n",
    "        val = full_pipeline.predict(X_val)\n",
    "        val_err = round(np.mean(val != y_val) * 100, 2)\n",
    "        val_errs.append(val_err)\n",
    "        \n",
    "        #Tìm độ lỗi thấp nhất trên tập validation\n",
    "        if val_err < best_val_err:\n",
    "            best_val_err = val_err\n",
    "            best_alpha = alpha \n",
    "            best_component = component\n",
    "'Finish!'"
   ]
  },
  {
   "cell_type": "code",
   "execution_count": 13,
   "metadata": {},
   "outputs": [
    {
     "name": "stdout",
     "output_type": "stream",
     "text": [
      "14.72\n",
      "0.1\n",
      "150\n"
     ]
    }
   ],
   "source": [
    "print(best_val_err)\n",
    "print(best_alpha)\n",
    "print(best_component)"
   ]
  },
  {
   "cell_type": "code",
   "execution_count": 14,
   "metadata": {},
   "outputs": [
    {
     "data": {
      "image/png": "[encoded data removed]",
      "text/plain": [
       "<Figure size 720x360 with 2 Axes>"
      ]
     },
     "metadata": {
      "needs_background": "light"
     },
     "output_type": "display_data"
    }
   ],
   "source": [
    "# Trực quan hóa kết quả (code lấy từ file BT03 của Thầy)\n",
    "\n",
    "train_errs_df = pd.DataFrame(data=np.array(train_errs).reshape(len(alphas), -1),\n",
    "                             index=alphas, columns=components)\n",
    "val_errs_df = pd.DataFrame(data=np.array(val_errs).reshape(len(alphas), -1), \n",
    "                           index=alphas, columns=components)\n",
    "\n",
    "min_err = min(min(train_errs), min(val_errs))\n",
    "max_err = max(max(train_errs), max(val_errs))\n",
    "\n",
    "plt.figure(figsize=(10, 5))\n",
    "plt.subplot(1, 2, 1)\n",
    "sns.heatmap(train_errs_df, vmin=min_err, vmax=max_err, square=True, annot=True, \n",
    "            cbar=False, fmt='.1f', cmap='Reds')\n",
    "\n",
    "plt.title('train errors'); plt.xlabel('n_components'); plt.ylabel('alpha')\n",
    "plt.subplot(1, 2, 2)\n",
    "sns.heatmap(val_errs_df, vmin=min_err, vmax=max_err, square=True, annot=True, \n",
    "            cbar=False, fmt='.1f', cmap='Reds')\n",
    "\n",
    "plt.title('validation errors'); plt.xlabel('n_components'); plt.ylabel('alpha');"
   ]
  },
  {
   "cell_type": "markdown",
   "metadata": {},
   "source": [
    "# GIAI ĐOẠN 4: TRAIN VÀ TEST MÔ HÌNH ĐÃ CHỌN"
   ]
  },
  {
   "cell_type": "code",
   "execution_count": 15,
   "metadata": {},
   "outputs": [
    {
     "data": {
      "text/plain": [
       "Pipeline(memory=None,\n",
       "     steps=[('BagOfWord', <__main__.bagOfWord object at 0x00000293DB58FD30>), ('PCA', PCA(copy=True, iterated_power='auto', n_components=150, random_state=None,\n",
       "  svd_solver='auto', tol=0.0, whiten=False)), ('NN', MLPClassifier(activation='tanh', alpha=0.1, batch_size='auto', beta_1=0.9,\n",
       "       beta_2=0....True, solver='lbfgs', tol=0.0001,\n",
       "       validation_fraction=0.1, verbose=False, warm_start=False))])"
      ]
     },
     "execution_count": 15,
     "metadata": {},
     "output_type": "execute_result"
    }
   ],
   "source": [
    "# Huấn luyện lần cuối trên tập train+val\n",
    "\n",
    "full_pipeline.set_params(PCA__n_components=best_component, NN__alpha=best_alpha)\n",
    "full_pipeline.fit(X_train_val,y_train_val)"
   ]
  },
  {
   "cell_type": "code",
   "execution_count": 16,
   "metadata": {},
   "outputs": [
    {
     "name": "stdout",
     "output_type": "stream",
     "text": [
      "Error:  13.218390804597702\n",
      "Acuracy:  86.7816091954023\n"
     ]
    }
   ],
   "source": [
    "# Đánh giá trên tập test\n",
    "\n",
    "test = full_pipeline.predict(X_test)\n",
    "test_err = np.mean(test != y_test) * 100\n",
    "\n",
    "print(\"Error: \", test_err)\n",
    "print(\"Acuracy: \", 100 - test_err)"
   ]
  },
  {
   "cell_type": "code",
   "execution_count": null,
   "metadata": {},
   "outputs": [],
   "source": []
  }
 ],
 "metadata": {
  "kernelspec": {
   "display_name": "Python 3",
   "language": "python",
   "name": "python3"
  },
  "language_info": {
   "codemirror_mode": {
    "name": "ipython",
    "version": 3
   },
   "file_extension": ".py",
   "mimetype": "text/x-python",
   "name": "python",
   "nbconvert_exporter": "python",
   "pygments_lexer": "ipython3",
   "version": "3.7.3"
  }
 },
 "nbformat": 4,
 "nbformat_minor": 2
}
