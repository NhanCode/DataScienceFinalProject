{
 "cells": [
  {
   "cell_type": "markdown",
   "metadata": {},
   "source": [
    "# Đồ án cuối kỳ\n",
    "\n",
    "Thông tin nhóm:\n",
    "    \n",
    "Phạm Quang Phước Nguyên - MSSV: 1612441\n",
    "\n",
    "Nguyễn Cao Nhân - MSSV: 1612451"
   ]
  },
  {
   "cell_type": "markdown",
   "metadata": {},
   "source": [
    "---\n",
    "## Đặt vấn đề"
   ]
  },
  {
   "cell_type": "markdown",
   "metadata": {},
   "source": []
  },
  {
   "cell_type": "markdown",
   "metadata": {},
   "source": [
    "---\n",
    "## Parse trang web để lấy dữ liệu"
   ]
  },
  {
   "cell_type": "code",
   "execution_count": 1,
   "metadata": {},
   "outputs": [],
   "source": [
    "from requests_html import HTMLSession\n",
    "import requests\n",
    "import time # Dùng để sleep chương trình\n",
    "import datetime as dt # Dùng để xử lý dữ liệu thời gian\n",
    "import re"
   ]
  },
  {
   "cell_type": "markdown",
   "metadata": {},
   "source": []
  },
  {
   "cell_type": "code",
   "execution_count": 2,
   "metadata": {},
   "outputs": [],
   "source": [
    "def get_estate_url_list(url):\n",
    "    estate_info_urls = []\n",
    "    while True:\n",
    "        r = session.get(url)\n",
    "        print(url)     \n",
    "\n",
    "        estate_list = r.html.find(\".RealEstate_listing\", first=True)\n",
    "        estate_items = estate_list.find(\".RealEstate_item\")    \n",
    "\n",
    "        for estate_item in estate_items:\n",
    "            tilte = estate_item.find(\".link\", first=True)\n",
    "            item_url = tilte.attrs[\"href\"]\n",
    "            estate_info_urls.append(item_url)\n",
    "            #print(item_url) \n",
    "\n",
    "        pages = r.html.find(\".pagination\", first=True).find(\"li\")\n",
    "        next_page = pages[-1].find(\"a\", first=True)\n",
    "        if next_page:\n",
    "            url = next_page.attrs[\"href\"]\n",
    "        else:\n",
    "            break \n",
    "\n",
    "        time.sleep(0.5)\n",
    "    return estate_info_urls"
   ]
  },
  {
   "cell_type": "markdown",
   "metadata": {},
   "source": []
  },
  {
   "cell_type": "code",
   "execution_count": 3,
   "metadata": {},
   "outputs": [],
   "source": [
    "prop_list = ['address', 'price', 'size', 'exprire_data', 'update_date', 'object', 'sex', 'amenities', 'electric_price', 'water_price', 'internet_price', 'payment_method', 'close_time']#, 'detail']\n",
    "\n",
    "prop_dict = {'Giới tính':'sex', 'Giá điện':'electric_price', 'Giá nước':'water_price', 'Giá wifi':'internet_price', 'Hình thức thanh toán':'payment_method', 'Giờ đóng cửa':'close_time'}"
   ]
  },
  {
   "cell_type": "code",
   "execution_count": 4,
   "metadata": {},
   "outputs": [],
   "source": [
    "def get_estate_info(estate_info_url):\n",
    "    r = session.get(estate_info_url).html\n",
    "    \n",
    "    info = {}\n",
    "    info['url'] = estate_info_url\n",
    "\n",
    "    info['address'] = r.find(\".pr_location\", first=True).find(\".address\", first=True).text\n",
    "\n",
    "    pr_price_acreage = r.find(\".pr_price_acreage\", first=True)\n",
    "    info['price'] = pr_price_acreage.find(\".price\", first=True).text\n",
    "    size = pr_price_acreage.find(\".acreage\", first=True).text\n",
    "    info['size'] = re.findall(r\"\\d+\", size)[0]\n",
    "\n",
    "    update_at = pr_price_acreage.find(\".update_at\")\n",
    "    for date in update_at:\n",
    "        text = date.text\n",
    "        if text.startswith(\"Cập nhật\"):\n",
    "            info['update_date'] = re.findall(r\"\\d{2}/\\d{2}/\\d{4}\", text)[0]\n",
    "        elif text.startswith(\"Ngày hết hạn\"):\n",
    "            info['exprire_data'] = re.findall(r\"\\d{2}/\\d{2}/\\d{4}\", text)[0]  \n",
    "\n",
    "    highlight = r.find(\".RealEstate_Highlight\", first=True).find(\".item\")\n",
    "    for item in highlight:\n",
    "        name = item.find(\".name\", first=True).text\n",
    "        value = item.find(\".value\", first=True).text\n",
    "        prop_name = prop_dict.get(name)\n",
    "        if prop_name:\n",
    "            info[prop_name] = value\n",
    "        elif name == 'Đối tượng':\n",
    "            info['object'] = value.split(\", \")\n",
    "\n",
    "    amenities = []\n",
    "    amenities_list = r.find(\".pr_amenities_list\", first=True)    \n",
    "    if amenities_list:\n",
    "        amenities_list = amenities_list.find(\".pr_amenitie_item\")\n",
    "        for amenity in amenities_list:\n",
    "            amenities.append(amenity.text)\n",
    "    info['amenities'] = amenities\n",
    "\n",
    "    info['detail'] = r.find(\".RealEstate_Content\", first=True).find(\".content\", first=True).text\n",
    "\n",
    "    return info        "
   ]
  },
  {
   "cell_type": "code",
   "execution_count": null,
   "metadata": {},
   "outputs": [],
   "source": []
  },
  {
   "cell_type": "code",
   "execution_count": 5,
   "metadata": {},
   "outputs": [
    {
     "name": "stdout",
     "output_type": "stream",
     "text": [
      "https://bds123.vn/cho-thue-phong-tro-nha-tro-quan-5-ho-chi-minh.html\n",
      "https://bds123.vn/cho-thue-phong-tro-nha-tro-quan-5-ho-chi-minh.html?page=2\n",
      "https://bds123.vn/cho-thue-phong-tro-nha-tro-quan-5-ho-chi-minh.html?page=3\n",
      "https://bds123.vn/cho-thue-phong-tro-nha-tro-quan-5-ho-chi-minh.html?page=4\n",
      "https://bds123.vn/cho-thue-phong-tro-nha-tro-quan-5-ho-chi-minh.html?page=5\n",
      "https://bds123.vn/cho-thue-phong-tro-nha-tro-quan-5-ho-chi-minh.html?page=6\n",
      "https://bds123.vn/cho-thue-phong-tro-nha-tro-quan-5-ho-chi-minh.html?page=7\n",
      "https://bds123.vn/cho-thue-phong-tro-nha-tro-quan-5-ho-chi-minh.html?page=8\n"
     ]
    }
   ],
   "source": [
    "session = HTMLSession()\n",
    "url = \"https://bds123.vn/cho-thue-phong-tro-nha-tro-quan-5-ho-chi-minh.html\"\n",
    "\n",
    "estate_info_urls = get_estate_url_list(url)"
   ]
  },
  {
   "cell_type": "code",
   "execution_count": 6,
   "metadata": {},
   "outputs": [
    {
     "name": "stdout",
     "output_type": "stream",
     "text": [
      "Start parsing 150 HTML pages\n",
      "Finished 5 % ...\n",
      "Finished 10 % ...\n",
      "Finished 15 % ...\n",
      "Finished 20 % ...\n",
      "Finished 25 % ...\n",
      "Finished 30 % ...\n",
      "Finished 35 % ...\n",
      "Finished 40 % ...\n",
      "Finished 45 % ...\n",
      "Finished 50 % ...\n",
      "Finished 55 % ...\n",
      "Finished 60 % ...\n",
      "Finished 65 % ...\n",
      "Finished 70 % ...\n",
      "Finished 75 % ...\n",
      "Finished 80 % ...\n",
      "Finished 85 % ...\n",
      "Finished 90 % ...\n",
      "Finished 95 % ...\n",
      "Finished 100 % ...\n",
      "Dataset Writing Finish\n"
     ]
    }
   ],
   "source": [
    "#open dataset file\n",
    "dataset_file = open(\"nhatro.csv\", \"w\", encoding='utf-8')\n",
    "\n",
    "#write header\n",
    "dataset_file.write(\"url\")\n",
    "for prop in prop_list:\n",
    "    dataset_file.write(\"\\t \" + prop)\n",
    "dataset_file.write(\"\\n\")\n",
    "\n",
    "#write records\n",
    "print(\"Start parsing {} HTML pages\".format(len(estate_info_urls)))\n",
    "k = 0\n",
    "current_percent = 0\n",
    "\n",
    "for estate_info_url in estate_info_urls:    \n",
    "    estate_info = get_estate_info(estate_info_url)\n",
    "    \n",
    "    dataset_file.write(estate_info['url'])    \n",
    "    for prop in prop_list:\n",
    "        cell = estate_info.get(prop, \"\")\n",
    "        dataset_file.write(\"\\t \" + str(cell))\n",
    "    dataset_file.write(\"\\n\")\n",
    "    \n",
    "    k+=1\n",
    "    percent = int(k * 100/ len(estate_info_urls))\n",
    "    if percent > current_percent and percent % 5 == 0:\n",
    "        current_percent = percent\n",
    "        print(\"Finished {} % ...\".format(percent))\n",
    "    \n",
    "#save dataset\n",
    "dataset_file.close()\n",
    "\n",
    "print(\"Dataset Writing Finish\")"
   ]
  },
  {
   "cell_type": "markdown",
   "metadata": {},
   "source": [
    "---\n",
    "## Mô tả dữ liệu"
   ]
  },
  {
   "cell_type": "code",
   "execution_count": null,
   "metadata": {},
   "outputs": [],
   "source": []
  },
  {
   "cell_type": "markdown",
   "metadata": {},
   "source": []
  },
  {
   "cell_type": "markdown",
   "metadata": {},
   "source": [
    "---\n",
    "## Import"
   ]
  },
  {
   "cell_type": "code",
   "execution_count": 7,
   "metadata": {},
   "outputs": [],
   "source": [
    "#khai báo thư viện\n",
    "import numpy as np\n",
    "%matplotlib inline\n",
    "import pandas as pd\n",
    "from pandas.plotting import register_matplotlib_converters\n",
    "register_matplotlib_converters()"
   ]
  },
  {
   "cell_type": "markdown",
   "metadata": {},
   "source": [
    "---\n",
    "## Đọc dữ liệu từ file csv vào dataframe"
   ]
  },
  {
   "cell_type": "code",
   "execution_count": null,
   "metadata": {},
   "outputs": [],
   "source": []
  },
  {
   "cell_type": "markdown",
   "metadata": {},
   "source": [
    "---\n",
    "## Trực quan hóa dữ liệu"
   ]
  },
  {
   "cell_type": "code",
   "execution_count": null,
   "metadata": {},
   "outputs": [],
   "source": []
  },
  {
   "cell_type": "markdown",
   "metadata": {},
   "source": [
    "---\n",
    "## Tiền xử lí dữ liệu"
   ]
  },
  {
   "cell_type": "code",
   "execution_count": null,
   "metadata": {},
   "outputs": [],
   "source": []
  },
  {
   "cell_type": "markdown",
   "metadata": {},
   "source": [
    "---\n",
    "## Train mô hình"
   ]
  },
  {
   "cell_type": "code",
   "execution_count": null,
   "metadata": {},
   "outputs": [],
   "source": []
  },
  {
   "cell_type": "markdown",
   "metadata": {},
   "source": [
    "---\n",
    "## Test mô hình"
   ]
  },
  {
   "cell_type": "code",
   "execution_count": null,
   "metadata": {},
   "outputs": [],
   "source": []
  },
  {
   "cell_type": "markdown",
   "metadata": {},
   "source": [
    "---\n",
    "## Đánh giá kết quả"
   ]
  },
  {
   "cell_type": "markdown",
   "metadata": {},
   "source": []
  },
  {
   "cell_type": "markdown",
   "metadata": {},
   "source": [
    "---\n",
    "## Kết luận"
   ]
  },
  {
   "cell_type": "markdown",
   "metadata": {},
   "source": []
  }
 ],
 "metadata": {
  "kernelspec": {
   "display_name": "Python 3",
   "language": "python",
   "name": "python3"
  },
  "language_info": {
   "codemirror_mode": {
    "name": "ipython",
    "version": 3
   },
   "file_extension": ".py",
   "mimetype": "text/x-python",
   "name": "python",
   "nbconvert_exporter": "python",
   "pygments_lexer": "ipython3",
   "version": "3.7.3"
  }
 },
 "nbformat": 4,
 "nbformat_minor": 2
}
