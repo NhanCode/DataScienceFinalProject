{
 "cells": [
  {
   "cell_type": "markdown",
   "metadata": {},
   "source": [
    "# Đồ án cuối kỳ\n",
    "\n",
    "Thông tin nhóm:\n",
    "    \n",
    "Phạm Quang Phước Nguyên - MSSV: 1612441\n",
    "\n",
    "Nguyễn Cao Nhân - MSSV: 1612451"
   ]
  },
  {
   "cell_type": "markdown",
   "metadata": {},
   "source": [
    "---\n",
    "## Đặt vấn đề"
   ]
  },
  {
   "cell_type": "markdown",
   "metadata": {},
   "source": []
  },
  {
   "cell_type": "markdown",
   "metadata": {},
   "source": [
    "---\n",
    "## Parse trang web để lấy dữ liệu"
   ]
  },
  {
   "cell_type": "code",
   "execution_count": 1,
   "metadata": {},
   "outputs": [],
   "source": [
    "from requests_html import HTMLSession\n",
    "import requests\n",
    "import time # Dùng để sleep chương trình\n",
    "import datetime as dt # Dùng để xử lý dữ liệu thời gian\n",
    "import re"
   ]
  },
  {
   "cell_type": "markdown",
   "metadata": {},
   "source": [
    "Mở kết nối"
   ]
  },
  {
   "cell_type": "code",
   "execution_count": 2,
   "metadata": {},
   "outputs": [],
   "source": [
    "session = HTMLSession()"
   ]
  },
  {
   "cell_type": "markdown",
   "metadata": {},
   "source": [
    "Hàm lấy từ điển URL dẫn đến kết quả tìm kiếm nhà trọ của từng quận (huyện)"
   ]
  },
  {
   "cell_type": "code",
   "execution_count": 3,
   "metadata": {},
   "outputs": [],
   "source": [
    "def getDistricURLs(url):\n",
    "    r = session.get(url).html\n",
    "    estate_url_by_distric = {}\n",
    "    \n",
    "    districts = r.find(\".district\", first=True).find(\"a\")\n",
    "    for distric in districts:\n",
    "        distric_url = distric.attrs[\"href\"]\n",
    "        #print(distric.text)\n",
    "        estate_url_by_distric[distric.text] = distric_url \n",
    "        \n",
    "    return estate_url_by_distric"
   ]
  },
  {
   "cell_type": "markdown",
   "metadata": {},
   "source": [
    "Hàm lấy danh sách URL của các nhà trọ từ kết quả tìm kiếm"
   ]
  },
  {
   "cell_type": "code",
   "execution_count": 4,
   "metadata": {},
   "outputs": [],
   "source": [
    "def getEstateURLs(url):\n",
    "    estate_info_urls = []\n",
    "    stop = False\n",
    "    while url:\n",
    "        r = session.get(url).html\n",
    "        #print(url)     \n",
    "\n",
    "        estate_list = r.find(\".RealEstate_listing\", first=True)\n",
    "        estate_items = estate_list.find(\".RealEstate_item\")    \n",
    "\n",
    "        for estate_item in estate_items:\n",
    "            tilte = estate_item.find(\".link\", first=True)\n",
    "            item_url = tilte.attrs[\"href\"]\n",
    "            estate_info_urls.append(item_url)\n",
    "            #print(item_url) \n",
    "\n",
    "        url = \"\"\n",
    "        pages = r.find(\".pagination\", first=True)\n",
    "        if pages:\n",
    "            next_page = pages.find(\"li\")[-1].find(\"a\", first=True)\n",
    "            if next_page:\n",
    "                url = next_page.attrs[\"href\"]\n",
    "\n",
    "        #time.sleep(0.2)\n",
    "        \n",
    "    return estate_info_urls"
   ]
  },
  {
   "cell_type": "markdown",
   "metadata": {},
   "source": [
    "Định nghĩa các thuộc tính cần lấy"
   ]
  },
  {
   "cell_type": "code",
   "execution_count": 5,
   "metadata": {},
   "outputs": [],
   "source": [
    "prop_list = ['address', 'price', 'size', 'exprire_data', 'update_date', 'object', 'sex', 'amenities', 'electric_price', 'water_price', 'internet_price', 'payment_method', 'close_time']#, 'detail']\n",
    "\n",
    "prop_dict = {'Giới tính':'sex', 'Giá điện':'electric_price', 'Giá nước':'water_price', 'Giá wifi':'internet_price', 'Hình thức thanh toán':'payment_method', 'Giờ đóng cửa':'close_time'}"
   ]
  },
  {
   "cell_type": "markdown",
   "metadata": {},
   "source": [
    "Hàm lấy thông tin nhà trọ từ trang thông tin chi tiết"
   ]
  },
  {
   "cell_type": "code",
   "execution_count": 6,
   "metadata": {},
   "outputs": [],
   "source": [
    "def getEstateInfo(estate_info_url):\n",
    "    r = session.get(estate_info_url).html\n",
    "    \n",
    "    info = {}\n",
    "    info['url'] = estate_info_url\n",
    "\n",
    "    info['address'] = r.find(\".pr_location\", first=True).find(\".address\", first=True).text\n",
    "\n",
    "    pr_price_acreage = r.find(\".pr_price_acreage\", first=True)\n",
    "    info['price'] = pr_price_acreage.find(\".price\", first=True).text\n",
    "    size = pr_price_acreage.find(\".acreage\", first=True).text\n",
    "    info['size'] = re.findall(r\"\\d+\", size)[0]\n",
    "\n",
    "    update_at = pr_price_acreage.find(\".update_at\")\n",
    "    for date in update_at:\n",
    "        text = date.text\n",
    "        if text.startswith(\"Cập nhật\"):\n",
    "            info['update_date'] = re.findall(r\"\\d{2}/\\d{2}/\\d{4}\", text)[0]\n",
    "        elif text.startswith(\"Ngày hết hạn\"):\n",
    "            info['exprire_data'] = re.findall(r\"\\d{2}/\\d{2}/\\d{4}\", text)[0]  \n",
    "\n",
    "    highlight = r.find(\".RealEstate_Highlight\", first=True).find(\".item\")\n",
    "    for item in highlight:\n",
    "        name = item.find(\".name\", first=True).text\n",
    "        value = item.find(\".value\", first=True).text\n",
    "        prop_name = prop_dict.get(name)\n",
    "        if prop_name:\n",
    "            info[prop_name] = value\n",
    "        elif name == 'Đối tượng':\n",
    "            info['object'] = value.split(\", \")\n",
    "\n",
    "    amenities_list = r.find(\".pr_amenities_list\", first=True)    \n",
    "    if amenities_list:\n",
    "        amenities_list = amenities_list.find(\".pr_amenitie_item\")\n",
    "        info['amenities'] = [amenity.text for amenity in amenities_list]\n",
    "\n",
    "    info['detail'] = r.find(\".RealEstate_Content\", first=True).find(\".content\", first=True).text\n",
    "\n",
    "    return info        "
   ]
  },
  {
   "cell_type": "markdown",
   "metadata": {},
   "source": [
    "Hàm parse HTML từ các URL trong danh sách vào file csv"
   ]
  },
  {
   "cell_type": "code",
   "execution_count": 7,
   "metadata": {},
   "outputs": [],
   "source": [
    "def parse_HTML_to_CSV(estate_info_urls, file_name):\n",
    "    #open dataset file    \n",
    "    print(\"Parsing {} HTMLs to {} ...\".format(len(estate_info_urls), file_name))\n",
    "    dataset_file = open(file_name, \"w\", encoding='utf-8')\n",
    "\n",
    "    #write header\n",
    "    dataset_file.write(\"url\")\n",
    "    for prop in prop_list:\n",
    "        dataset_file.write(\"\\t \" + prop)\n",
    "    dataset_file.write(\"\\n\")\n",
    "\n",
    "    #parse HTML \n",
    "    k = 0\n",
    "    current_percent = 0    \n",
    "    for estate_info_url in estate_info_urls:    \n",
    "        estate_info = getEstateInfo(estate_info_url)\n",
    "\n",
    "        #write record   \n",
    "        dataset_file.write(estate_info['url'])    \n",
    "        for prop in prop_list:\n",
    "            cell = estate_info.get(prop, \"\")\n",
    "            dataset_file.write(\"\\t \" + str(cell))\n",
    "        dataset_file.write(\"\\n\")\n",
    "        \n",
    "        #show progress        \n",
    "        k+=1\n",
    "        percent = int(k * 100/ len(estate_info_urls))\n",
    "        if percent > current_percent and percent % 25 == 0:\n",
    "            current_percent = percent\n",
    "            print(\"Finished {} % ...\".format(percent))\n",
    "\n",
    "    #save dataset\n",
    "    dataset_file.close()\n",
    "\n",
    "    print(\"Finished writing to {}\".format(file_name))"
   ]
  },
  {
   "cell_type": "markdown",
   "metadata": {},
   "source": [
    "---\n",
    "## Ghi dữ liệu parse được vào file csv"
   ]
  },
  {
   "cell_type": "markdown",
   "metadata": {},
   "source": [
    "Cờ hiệu cho biết đã có dataset hay chưa"
   ]
  },
  {
   "cell_type": "code",
   "execution_count": 8,
   "metadata": {},
   "outputs": [],
   "source": [
    "HAS_DATASET = False"
   ]
  },
  {
   "cell_type": "markdown",
   "metadata": {},
   "source": [
    "Lấy thông tin của các nhà trọ ở quận 5"
   ]
  },
  {
   "cell_type": "code",
   "execution_count": 9,
   "metadata": {},
   "outputs": [
    {
     "name": "stdout",
     "output_type": "stream",
     "text": [
      "dict_keys(['Quận 1', 'Quận 2', 'Quận 3', 'Quận 4', 'Quận 5', 'Quận 6', 'Quận 7', 'Quận 8', 'Quận 9', 'Quận 10', 'Quận 11', 'Quận 12', 'Bình Thạnh', 'Bình Tân', 'Gò Vấp', 'Phú Nhuận', 'Tân Bình', 'Tân Phú', 'Thủ Đức', 'Bình Chánh', 'Cần Giờ', 'Củ Chi', 'Hóc Môn', 'Nhà Bè'])\n",
      "Parsing 150 HTMLs to nhatro_q5.csv ...\n",
      "Finished 25 % ...\n",
      "Finished 50 % ...\n",
      "Finished 75 % ...\n",
      "Finished 100 % ...\n",
      "Finished writing to nhatro_q5.csv\n"
     ]
    }
   ],
   "source": [
    "if HAS_DATASET == False:\n",
    "    url = \"https://bds123.vn/cho-thue-phong-tro-nha-tro-ho-chi-minh.html\"\n",
    "\n",
    "    distric_urls = getDistricURLs(url)\n",
    "    print(distric_urls.keys())\n",
    "\n",
    "    q5_urls = getEstateURLs(distric_urls['Quận 5'])\n",
    "\n",
    "    parse_HTML_to_CSV(q5_urls, \"nhatro_q5.csv\")"
   ]
  },
  {
   "cell_type": "markdown",
   "metadata": {},
   "source": [
    "---\n",
    "## Đọc dữ liệu từ file csv vào dataframe"
   ]
  },
  {
   "cell_type": "code",
   "execution_count": 10,
   "metadata": {},
   "outputs": [],
   "source": [
    "import numpy as np\n",
    "%matplotlib inline\n",
    "import pandas as pd\n",
    "from pandas.plotting import register_matplotlib_converters\n",
    "register_matplotlib_converters()"
   ]
  },
  {
   "cell_type": "code",
   "execution_count": 11,
   "metadata": {},
   "outputs": [],
   "source": [
    "df = pd.read_csv(\"nhatro_q5.csv\", sep = \"\\t\")"
   ]
  },
  {
   "cell_type": "code",
   "execution_count": 12,
   "metadata": {},
   "outputs": [
    {
     "data": {
      "text/html": [
       "<div>\n",
       "<style scoped>\n",
       "    .dataframe tbody tr th:only-of-type {\n",
       "        vertical-align: middle;\n",
       "    }\n",
       "\n",
       "    .dataframe tbody tr th {\n",
       "        vertical-align: top;\n",
       "    }\n",
       "\n",
       "    .dataframe thead th {\n",
       "        text-align: right;\n",
       "    }\n",
       "</style>\n",
       "<table border=\"1\" class=\"dataframe\">\n",
       "  <thead>\n",
       "    <tr style=\"text-align: right;\">\n",
       "      <th></th>\n",
       "      <th>url</th>\n",
       "      <th>address</th>\n",
       "      <th>price</th>\n",
       "      <th>size</th>\n",
       "      <th>exprire_data</th>\n",
       "      <th>update_date</th>\n",
       "      <th>object</th>\n",
       "      <th>sex</th>\n",
       "      <th>amenities</th>\n",
       "      <th>electric_price</th>\n",
       "      <th>water_price</th>\n",
       "      <th>internet_price</th>\n",
       "      <th>payment_method</th>\n",
       "      <th>close_time</th>\n",
       "    </tr>\n",
       "  </thead>\n",
       "  <tbody>\n",
       "    <tr>\n",
       "      <th>0</th>\n",
       "      <td>https://bds123.vn/phong-tro-gia-re-cho-sinh-vi...</td>\n",
       "      <td>77/1A Đường Nguyễn Thi, Phường 13, Quận 5, Hồ...</td>\n",
       "      <td>1.3 triệu/tháng</td>\n",
       "      <td>10</td>\n",
       "      <td>02/12/2019</td>\n",
       "      <td>30/11/2019</td>\n",
       "      <td>['Sinh viên']</td>\n",
       "      <td></td>\n",
       "      <td>['Internet tốc độ cao', 'Bếp']</td>\n",
       "      <td></td>\n",
       "      <td>60.000 đồng/người</td>\n",
       "      <td>70.000 đồng</td>\n",
       "      <td>Thỏa thuận</td>\n",
       "      <td></td>\n",
       "    </tr>\n",
       "  </tbody>\n",
       "</table>\n",
       "</div>"
      ],
      "text/plain": [
       "                                                 url  \\\n",
       "0  https://bds123.vn/phong-tro-gia-re-cho-sinh-vi...   \n",
       "\n",
       "                                             address             price   size  \\\n",
       "0   77/1A Đường Nguyễn Thi, Phường 13, Quận 5, Hồ...   1.3 triệu/tháng     10   \n",
       "\n",
       "   exprire_data  update_date          object  sex  \\\n",
       "0    02/12/2019   30/11/2019   ['Sinh viên']        \n",
       "\n",
       "                         amenities  electric_price         water_price  \\\n",
       "0   ['Internet tốc độ cao', 'Bếp']                   60.000 đồng/người   \n",
       "\n",
       "   internet_price  payment_method  close_time  \n",
       "0     70.000 đồng      Thỏa thuận              "
      ]
     },
     "execution_count": 12,
     "metadata": {},
     "output_type": "execute_result"
    }
   ],
   "source": [
    "df.head(1)"
   ]
  },
  {
   "cell_type": "markdown",
   "metadata": {},
   "source": [
    "---\n",
    "## Mô tả dữ liệu"
   ]
  },
  {
   "cell_type": "code",
   "execution_count": 13,
   "metadata": {},
   "outputs": [
    {
     "name": "stdout",
     "output_type": "stream",
     "text": [
      "<class 'pandas.core.frame.DataFrame'>\n",
      "RangeIndex: 150 entries, 0 to 149\n",
      "Data columns (total 14 columns):\n",
      "url                150 non-null object\n",
      " address           150 non-null object\n",
      " price             150 non-null object\n",
      " size              150 non-null int64\n",
      " exprire_data      150 non-null object\n",
      " update_date       150 non-null object\n",
      " object            150 non-null object\n",
      " sex               150 non-null object\n",
      " amenities         150 non-null object\n",
      " electric_price    150 non-null object\n",
      " water_price       150 non-null object\n",
      " internet_price    150 non-null object\n",
      " payment_method    150 non-null object\n",
      " close_time        150 non-null object\n",
      "dtypes: int64(1), object(13)\n",
      "memory usage: 16.5+ KB\n"
     ]
    }
   ],
   "source": [
    "df.info()"
   ]
  },
  {
   "cell_type": "markdown",
   "metadata": {},
   "source": [
    "Tập dữ liệu nhà trọ cho thuê được trích lấy từ trang web https://bds123.vn/. Dữ liệu chứa một số thông tin trong các mẫu tin đăng cho thuê nhà trọ (giới hạn trong khu vực Quận 5, Thành phố HCM). Số mẫu dữ liệu nhóm thu thập là 150, số thuộc tính là 14, cụ thể như sau:\n",
    "<ol>\n",
    "    <li>url: đường dẫn tới mẫu tin</li>\n",
    "    <li>address: địa chỉ chi tiết của nhà trọ</li>\n",
    "    <li>price: giá cho thuê</li>\n",
    "    <li>size: tổng diện tích của phòng trọ / nhà trọ</li>\n",
    "    <li>exprire_data: ngày hết hạn của mẫu tin</li>\n",
    "    <li>update_date: ngày cập nhật mới nhất của mẫu tin (có thể không phải là ngày đầu tiên đăng tin)</li>\n",
    "    <li>object: đối tượng được cho thuê (ví dụ: nhân viên văn phòng, người đi làm, sinh viên, ... )</li>\n",
    "    <li>sex: giới tính đối tượng được cho thuê </li>\n",
    "    <li>amenities: các tiện nghi đi kèm: tủ lạnh, máy giặt, gần công viên, ban công, nhà bếp, bảo vệ, ... </li>\n",
    "    <li>electric_price: tiền điện</li>\n",
    "    <li>water_price: tiền nước</li>\n",
    "    <li>internet_price: tiền wifi</li>\n",
    "    <li>payment_method: phương thức thanh toán</li>\n",
    "    <li>close_time: thời gian đóng cửa nhà trọ vào ban đêm </li>\n",
    "</ol>\n",
    "Tập dữ liệu thu được ban đầu là dữ liệu thô chưa được chuẩn hóa, một số mẫu bị thiếu giá trị ở một số thuộc tính. Địa chỉ nhà trọ chưa được tách ra thành thuộc tính đường, phường; các tiện nghi còn gom chung vào một thuộc tính, tiền điện và tiền nước có những đơn giá, cách tính khác nhau. Giai đoạn tiền xử lý dữ liệu phía sau sẽ thực hiện các thao tác để chuẩn hóa, xử lý lại dữ liệu ban đầu thu được.\n",
    "\n"
   ]
  },
  {
   "cell_type": "markdown",
   "metadata": {},
   "source": [
    "---\n",
    "## Tiền xử lí dữ liệu"
   ]
  },
  {
   "cell_type": "code",
   "execution_count": null,
   "metadata": {},
   "outputs": [],
   "source": []
  },
  {
   "cell_type": "markdown",
   "metadata": {},
   "source": [
    "---\n",
    "## Trực quan hóa dữ liệu"
   ]
  },
  {
   "cell_type": "code",
   "execution_count": null,
   "metadata": {},
   "outputs": [],
   "source": []
  },
  {
   "cell_type": "markdown",
   "metadata": {},
   "source": [
    "---\n",
    "## Train mô hình"
   ]
  },
  {
   "cell_type": "code",
   "execution_count": null,
   "metadata": {},
   "outputs": [],
   "source": []
  },
  {
   "cell_type": "markdown",
   "metadata": {},
   "source": [
    "---\n",
    "## Test mô hình"
   ]
  },
  {
   "cell_type": "code",
   "execution_count": null,
   "metadata": {},
   "outputs": [],
   "source": []
  },
  {
   "cell_type": "markdown",
   "metadata": {},
   "source": [
    "---\n",
    "## Đánh giá kết quả"
   ]
  },
  {
   "cell_type": "markdown",
   "metadata": {},
   "source": []
  },
  {
   "cell_type": "markdown",
   "metadata": {},
   "source": [
    "---\n",
    "## Kết luận"
   ]
  },
  {
   "cell_type": "markdown",
   "metadata": {},
   "source": []
  }
 ],
 "metadata": {
  "kernelspec": {
   "display_name": "Python 3",
   "language": "python",
   "name": "python3"
  },
  "language_info": {
   "codemirror_mode": {
    "name": "ipython",
    "version": 3
   },
   "file_extension": ".py",
   "mimetype": "text/x-python",
   "name": "python",
   "nbconvert_exporter": "python",
   "pygments_lexer": "ipython3",
   "version": "3.7.3"
  }
 },
 "nbformat": 4,
 "nbformat_minor": 2
}
