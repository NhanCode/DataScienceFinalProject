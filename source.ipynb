{
 "cells": [
  {
   "cell_type": "markdown",
   "metadata": {},
   "source": [
    "# Đồ án cuối kỳ\n",
    "\n",
    "Thông tin nhóm:\n",
    "    \n",
    "Phạm Quang Phước Nguyên - MSSV: 1612441\n",
    "\n",
    "Nguyễn Cao Nhân - MSSV: 1612451"
   ]
  },
  {
   "cell_type": "markdown",
   "metadata": {},
   "source": [
    "---\n",
    "## Đặt vấn đề"
   ]
  },
  {
   "cell_type": "markdown",
   "metadata": {},
   "source": []
  },
  {
   "cell_type": "markdown",
   "metadata": {},
   "source": [
    "---\n",
    "## Parse trang web để lấy dữ liệu"
   ]
  },
  {
   "cell_type": "code",
   "execution_count": 1,
   "metadata": {},
   "outputs": [],
   "source": [
    "from requests_html import HTMLSession\n",
    "import requests\n",
    "import time # Dùng để sleep chương trình\n",
    "import datetime as dt # Dùng để xử lý dữ liệu thời gian\n",
    "import re"
   ]
  },
  {
   "cell_type": "markdown",
   "metadata": {},
   "source": []
  },
  {
   "cell_type": "code",
   "execution_count": 2,
   "metadata": {},
   "outputs": [],
   "source": [
    "session = HTMLSession()"
   ]
  },
  {
   "cell_type": "code",
   "execution_count": 3,
   "metadata": {},
   "outputs": [],
   "source": [
    "def getDistricURLs(url):\n",
    "    r = session.get(url).html\n",
    "    estate_url_by_distric = {}\n",
    "    \n",
    "    districts = r.find(\".district\", first=True).find(\"a\")\n",
    "    for distric in districts:\n",
    "        distric_url = distric.attrs[\"href\"]\n",
    "        #print(distric.text)\n",
    "        estate_url_by_distric[distric.text] = distric_url \n",
    "        \n",
    "    return estate_url_by_distric"
   ]
  },
  {
   "cell_type": "markdown",
   "metadata": {},
   "source": []
  },
  {
   "cell_type": "code",
   "execution_count": 4,
   "metadata": {},
   "outputs": [],
   "source": [
    "def getEstateURLs(url):\n",
    "    estate_info_urls = []\n",
    "    stop = False\n",
    "    while url:\n",
    "        r = session.get(url).html\n",
    "        #print(url)     \n",
    "\n",
    "        estate_list = r.find(\".RealEstate_listing\", first=True)\n",
    "        estate_items = estate_list.find(\".RealEstate_item\")    \n",
    "\n",
    "        for estate_item in estate_items:\n",
    "            tilte = estate_item.find(\".link\", first=True)\n",
    "            item_url = tilte.attrs[\"href\"]\n",
    "            estate_info_urls.append(item_url)\n",
    "            #print(item_url) \n",
    "\n",
    "        url = \"\"\n",
    "        pages = r.find(\".pagination\", first=True)\n",
    "        if pages:\n",
    "            next_page = pages.find(\"li\")[-1].find(\"a\", first=True)\n",
    "            if next_page:\n",
    "                url = next_page.attrs[\"href\"]\n",
    "\n",
    "        #time.sleep(0.2)\n",
    "        \n",
    "    return estate_info_urls"
   ]
  },
  {
   "cell_type": "markdown",
   "metadata": {},
   "source": []
  },
  {
   "cell_type": "code",
   "execution_count": 5,
   "metadata": {},
   "outputs": [],
   "source": [
    "prop_list = ['address', 'price', 'size', 'exprire_data', 'update_date', 'object', 'sex', 'amenities', 'electric_price', 'water_price', 'internet_price', 'payment_method', 'close_time']#, 'detail']\n",
    "\n",
    "prop_dict = {'Giới tính':'sex', 'Giá điện':'electric_price', 'Giá nước':'water_price', 'Giá wifi':'internet_price', 'Hình thức thanh toán':'payment_method', 'Giờ đóng cửa':'close_time'}"
   ]
  },
  {
   "cell_type": "code",
   "execution_count": 6,
   "metadata": {},
   "outputs": [],
   "source": [
    "def getEstateInfo(estate_info_url):\n",
    "    r = session.get(estate_info_url).html\n",
    "    \n",
    "    info = {}\n",
    "    info['url'] = estate_info_url\n",
    "\n",
    "    info['address'] = r.find(\".pr_location\", first=True).find(\".address\", first=True).text\n",
    "\n",
    "    pr_price_acreage = r.find(\".pr_price_acreage\", first=True)\n",
    "    info['price'] = pr_price_acreage.find(\".price\", first=True).text\n",
    "    size = pr_price_acreage.find(\".acreage\", first=True).text\n",
    "    info['size'] = re.findall(r\"\\d+\", size)[0]\n",
    "\n",
    "    update_at = pr_price_acreage.find(\".update_at\")\n",
    "    for date in update_at:\n",
    "        text = date.text\n",
    "        if text.startswith(\"Cập nhật\"):\n",
    "            info['update_date'] = re.findall(r\"\\d{2}/\\d{2}/\\d{4}\", text)[0]\n",
    "        elif text.startswith(\"Ngày hết hạn\"):\n",
    "            info['exprire_data'] = re.findall(r\"\\d{2}/\\d{2}/\\d{4}\", text)[0]  \n",
    "\n",
    "    highlight = r.find(\".RealEstate_Highlight\", first=True).find(\".item\")\n",
    "    for item in highlight:\n",
    "        name = item.find(\".name\", first=True).text\n",
    "        value = item.find(\".value\", first=True).text\n",
    "        prop_name = prop_dict.get(name)\n",
    "        if prop_name:\n",
    "            info[prop_name] = value\n",
    "        elif name == 'Đối tượng':\n",
    "            info['object'] = value.split(\", \")\n",
    "\n",
    "    amenities_list = r.find(\".pr_amenities_list\", first=True)    \n",
    "    if amenities_list:\n",
    "        amenities_list = amenities_list.find(\".pr_amenitie_item\")\n",
    "        info['amenities'] = [amenity.text for amenity in amenities_list]\n",
    "\n",
    "    info['detail'] = r.find(\".RealEstate_Content\", first=True).find(\".content\", first=True).text\n",
    "\n",
    "    return info        "
   ]
  },
  {
   "cell_type": "markdown",
   "metadata": {},
   "source": []
  },
  {
   "cell_type": "code",
   "execution_count": 7,
   "metadata": {},
   "outputs": [],
   "source": [
    "def parse_HTML_to_CSV(estate_info_urls, file_name):\n",
    "    #open dataset file    \n",
    "    print(\"Parsing {} HTMLs to {} ...\".format(len(estate_info_urls), file_name))\n",
    "    dataset_file = open(file_name, \"w\", encoding='utf-8')\n",
    "\n",
    "    #write header\n",
    "    dataset_file.write(\"url\")\n",
    "    for prop in prop_list:\n",
    "        dataset_file.write(\"\\t \" + prop)\n",
    "    dataset_file.write(\"\\n\")\n",
    "\n",
    "    #parse HTML \n",
    "    k = 0\n",
    "    current_percent = 0    \n",
    "    for estate_info_url in estate_info_urls:    \n",
    "        estate_info = getEstateInfo(estate_info_url)\n",
    "\n",
    "        #write record   \n",
    "        dataset_file.write(estate_info['url'])    \n",
    "        for prop in prop_list:\n",
    "            cell = estate_info.get(prop, \"\")\n",
    "            dataset_file.write(\"\\t \" + str(cell))\n",
    "        dataset_file.write(\"\\n\")\n",
    "        \n",
    "        #show progress        \n",
    "        k+=1\n",
    "        percent = int(k * 100/ len(estate_info_urls))\n",
    "        if percent > current_percent and percent % 25 == 0:\n",
    "            current_percent = percent\n",
    "            print(\"Finished {} % ...\".format(percent))\n",
    "\n",
    "    #save dataset\n",
    "    dataset_file.close()\n",
    "\n",
    "    print(\"Finished writing to {}\".format(file_name))"
   ]
  },
  {
   "cell_type": "markdown",
   "metadata": {},
   "source": []
  },
  {
   "cell_type": "code",
   "execution_count": 8,
   "metadata": {},
   "outputs": [],
   "source": [
    "HAS_DATASET = False"
   ]
  },
  {
   "cell_type": "code",
   "execution_count": 9,
   "metadata": {},
   "outputs": [
    {
     "name": "stdout",
     "output_type": "stream",
     "text": [
      "dict_keys(['Quận 1', 'Quận 2', 'Quận 3', 'Quận 4', 'Quận 5', 'Quận 6', 'Quận 7', 'Quận 8', 'Quận 9', 'Quận 10', 'Quận 11', 'Quận 12', 'Bình Thạnh', 'Bình Tân', 'Gò Vấp', 'Phú Nhuận', 'Tân Bình', 'Tân Phú', 'Thủ Đức', 'Bình Chánh', 'Cần Giờ', 'Củ Chi', 'Hóc Môn', 'Nhà Bè'])\n",
      "Parsing 150 HTMLs to nhatro_q5.csv ...\n",
      "Finished 25 % ...\n",
      "Finished 50 % ...\n",
      "Finished 75 % ...\n",
      "Finished 100 % ...\n",
      "Finished writing to nhatro_q5.csv\n"
     ]
    }
   ],
   "source": [
    "if HAS_DATASET == False:\n",
    "    url = \"https://bds123.vn/cho-thue-phong-tro-nha-tro-ho-chi-minh.html\"\n",
    "\n",
    "    distric_urls = getDistricURLs(url)\n",
    "    print(distric_urls.keys())\n",
    "\n",
    "    q5_urls = getEstateURLs(distric_urls['Quận 5'])\n",
    "\n",
    "    parse_HTML_to_CSV(q5_urls, \"nhatro_q5.csv\")"
   ]
  },
  {
   "cell_type": "markdown",
   "metadata": {},
   "source": []
  },
  {
   "cell_type": "code",
   "execution_count": null,
   "metadata": {},
   "outputs": [],
   "source": []
  },
  {
   "cell_type": "markdown",
   "metadata": {},
   "source": [
    "---\n",
    "## Mô tả dữ liệu"
   ]
  },
  {
   "cell_type": "code",
   "execution_count": null,
   "metadata": {},
   "outputs": [],
   "source": []
  },
  {
   "cell_type": "markdown",
   "metadata": {},
   "source": []
  },
  {
   "cell_type": "markdown",
   "metadata": {},
   "source": [
    "---\n",
    "## Import"
   ]
  },
  {
   "cell_type": "code",
   "execution_count": 10,
   "metadata": {},
   "outputs": [],
   "source": [
    "#khai báo thư viện\n",
    "import numpy as np\n",
    "%matplotlib inline\n",
    "import pandas as pd\n",
    "from pandas.plotting import register_matplotlib_converters\n",
    "register_matplotlib_converters()"
   ]
  },
  {
   "cell_type": "markdown",
   "metadata": {},
   "source": [
    "---\n",
    "## Đọc dữ liệu từ file csv vào dataframe"
   ]
  },
  {
   "cell_type": "code",
   "execution_count": null,
   "metadata": {},
   "outputs": [],
   "source": []
  },
  {
   "cell_type": "markdown",
   "metadata": {},
   "source": [
    "---\n",
    "## Trực quan hóa dữ liệu"
   ]
  },
  {
   "cell_type": "code",
   "execution_count": null,
   "metadata": {},
   "outputs": [],
   "source": []
  },
  {
   "cell_type": "markdown",
   "metadata": {},
   "source": [
    "---\n",
    "## Tiền xử lí dữ liệu"
   ]
  },
  {
   "cell_type": "code",
   "execution_count": null,
   "metadata": {},
   "outputs": [],
   "source": []
  },
  {
   "cell_type": "markdown",
   "metadata": {},
   "source": [
    "---\n",
    "## Train mô hình"
   ]
  },
  {
   "cell_type": "code",
   "execution_count": null,
   "metadata": {},
   "outputs": [],
   "source": []
  },
  {
   "cell_type": "markdown",
   "metadata": {},
   "source": [
    "---\n",
    "## Test mô hình"
   ]
  },
  {
   "cell_type": "code",
   "execution_count": null,
   "metadata": {},
   "outputs": [],
   "source": []
  },
  {
   "cell_type": "markdown",
   "metadata": {},
   "source": [
    "---\n",
    "## Đánh giá kết quả"
   ]
  },
  {
   "cell_type": "markdown",
   "metadata": {},
   "source": []
  },
  {
   "cell_type": "markdown",
   "metadata": {},
   "source": [
    "---\n",
    "## Kết luận"
   ]
  },
  {
   "cell_type": "markdown",
   "metadata": {},
   "source": []
  }
 ],
 "metadata": {
  "kernelspec": {
   "display_name": "Python 3",
   "language": "python",
   "name": "python3"
  },
  "language_info": {
   "codemirror_mode": {
    "name": "ipython",
    "version": 3
   },
   "file_extension": ".py",
   "mimetype": "text/x-python",
   "name": "python",
   "nbconvert_exporter": "python",
   "pygments_lexer": "ipython3",
   "version": "3.7.3"
  }
 },
 "nbformat": 4,
 "nbformat_minor": 2
}
